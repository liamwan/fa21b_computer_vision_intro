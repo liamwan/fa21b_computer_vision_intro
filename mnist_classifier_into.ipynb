{
 "cells": [
  {
   "cell_type": "code",
   "execution_count": 1,
   "metadata": {
    "collapsed": true
   },
   "outputs": [],
   "source": [
    "import torch\n",
    "import pickle\n",
    "import gzip\n",
    "import matplotlib.pyplot as plt\n",
    "from torch import nn\n",
    "import numpy as np"
   ]
  },
  {
   "cell_type": "code",
   "execution_count": 2,
   "metadata": {
    "collapsed": false
   },
   "outputs": [],
   "source": [
    "file = gzip.open(\"mnist.pkl.gz\")\n",
    "((x_train, y_train), (x_valid, y_valid), _ )=pickle.load(file, encoding='latin-1')"
   ]
  },
  {
   "cell_type": "code",
   "execution_count": 3,
   "metadata": {
    "collapsed": false
   },
   "outputs": [
    {
     "data": {
      "text/plain": [
       "(784,)"
      ]
     },
     "execution_count": 3,
     "metadata": {},
     "output_type": "execute_result"
    }
   ],
   "source": [
    "x_train[0].shape"
   ]
  },
  {
   "cell_type": "code",
   "execution_count": 4,
   "metadata": {
    "collapsed": false
   },
   "outputs": [
    {
     "data": {
      "text/plain": [
       "784"
      ]
     },
     "execution_count": 4,
     "metadata": {},
     "output_type": "execute_result"
    }
   ],
   "source": [
    "28*28"
   ]
  },
  {
   "cell_type": "code",
   "execution_count": 5,
   "metadata": {
    "collapsed": false
   },
   "outputs": [
    {
     "data": {
      "text/plain": [
       "<matplotlib.image.AxesImage at 0x137405bd0>"
      ]
     },
     "execution_count": 5,
     "metadata": {},
     "output_type": "execute_result"
    },
    {
     "data": {
      "image/png": "[encoded data removed]",
      "text/plain": [
       "<Figure size 640x480 with 1 Axes>"
      ]
     },
     "metadata": {},
     "output_type": "display_data"
    }
   ],
   "source": [
    "sample_image=x_train[7]\n",
    "sample_image=sample_image.reshape((28, 28))\n",
    "plt.imshow(sample_image)"
   ]
  },
  {
   "cell_type": "code",
   "execution_count": 6,
   "metadata": {
    "collapsed": false
   },
   "outputs": [
    {
     "data": {
      "text/plain": [
       "3"
      ]
     },
     "execution_count": 6,
     "metadata": {},
     "output_type": "execute_result"
    }
   ],
   "source": [
    "y_train[7]"
   ]
  },
  {
   "cell_type": "markdown",
   "metadata": {
    "collapsed": false
   },
   "source": [
    "# Überlegungen zur Netzarchitektur\n",
    "\n",
    "InputNeuronen: 784\n",
    "OutputNeuronen: 10\n",
    "\n",
    "    - Neuron 0 --> wenn der Wert hier am höchsten ist. Dann soll es eine 0 sein\n",
    "    - Neuron 1 --> wenn der Wert hier am höchsten ist. Dann soll es eine 1 sein\n",
    "    - Neuron 2 --> wenn der Wert hier am höchsten ist. Dann soll es eine 2 sein\n",
    "    - Neuron 3 --> wenn der Wert hier am höchsten ist. Dann soll es eine 3 sein\n",
    "    ...\n"
   ]
  },
  {
   "cell_type": "code",
   "execution_count": 7,
   "metadata": {},
   "outputs": [],
   "source": [
    "# transform the data into tensors\n",
    "x_train, y_train, x_valid, y_valid = map(torch.tensor, (x_train, y_train, x_valid, y_valid))"
   ]
  },
  {
   "attachments": {},
   "cell_type": "markdown",
   "metadata": {},
   "source": [
    "# Konstruktion des Netzwerks"
   ]
  },
  {
   "cell_type": "code",
   "execution_count": 8,
   "metadata": {
    "collapsed": false
   },
   "outputs": [],
   "source": [
    "class fully_connected(nn.Module):\n",
    "    def __init__(self, input_size=784, hidden_size=128, output_size=10):\n",
    "        super(fully_connected, self).__init__()\n",
    "        self.fc1 = nn.Linear(input_size, hidden_size)\n",
    "        self.fc2 = nn.Linear(hidden_size, output_size)\n",
    "\n",
    "        self.bn1 = nn.BatchNorm1d(hidden_size)\n",
    "\n",
    "    def forward(self, xb):\n",
    "        #print('xb',xb.shape)\n",
    "        z2 = self.fc1(xb) # z2 = w1*x + b1\n",
    "        #print('z2',z2.shape)\n",
    "        a2 = torch.relu(z2) # negative values are set to zero\n",
    "        #print('a2',a2.shape)\n",
    "        a2_bn = self.bn1(a2) # batch normalization\n",
    "        #print('a2_bn',a2_bn.shape)\n",
    "        y_hat = torch.relu(self.fc2(a2_bn)) # y_hat = w2*a2 + b2\n",
    "        #print('y_hat',y_hat.shape)\n",
    "        return y_hat"
   ]
  },
  {
   "cell_type": "code",
   "execution_count": 9,
   "metadata": {},
   "outputs": [],
   "source": [
    "def get_batch(x, y, batch_size):\n",
    "    for i in range(0, x.shape[0], batch_size):\n",
    "        yield x[i:i+batch_size], y[i:i+batch_size]"
   ]
  },
  {
   "cell_type": "code",
   "execution_count": 10,
   "metadata": {},
   "outputs": [
    {
     "data": {
      "text/plain": [
       "[<matplotlib.lines.Line2D at 0x137e9efb0>]"
      ]
     },
     "execution_count": 10,
     "metadata": {},
     "output_type": "execute_result"
    },
    {
     "data": {
      "image/png": "[encoded data removed]",
      "text/plain": [
       "<Figure size 640x480 with 1 Axes>"
      ]
     },
     "metadata": {},
     "output_type": "display_data"
    }
   ],
   "source": [
    "model = fully_connected(input_size=784, hidden_size=128, output_size=10)\n",
    "loss = nn.CrossEntropyLoss()\n",
    "lr = 0.01\n",
    "batch_size = 64\n",
    "\n",
    "def train(xb, yb):\n",
    "    y_hat = model(xb)\n",
    "    loss_value = loss(y_hat, yb)\n",
    "    loss_value.backward()\n",
    "    with torch.no_grad():\n",
    "        for p in model.parameters():\n",
    "            p -= p.grad * lr\n",
    "        model.zero_grad()\n",
    "    return loss_value.item()\n",
    "\n",
    "losses = []\n",
    "for epoch in range(50):\n",
    "    for xb, yb in get_batch(x_train, y_train, batch_size):\n",
    "        loss_value = train(xb, yb)\n",
    "    losses.append(loss_value)\n",
    "\n",
    "plt.plot(losses)"
   ]
  },
  {
   "cell_type": "code",
   "execution_count": 11,
   "metadata": {},
   "outputs": [
    {
     "data": {
      "text/plain": [
       "tensor(0.9773)"
      ]
     },
     "execution_count": 11,
     "metadata": {},
     "output_type": "execute_result"
    }
   ],
   "source": [
    "# testing the model\n",
    "def accuracy(xb, yb):\n",
    "    y_hat = model(xb)\n",
    "    y_hat = torch.argmax(y_hat, dim=1)\n",
    "    return (y_hat==yb).float().mean()\n",
    "\n",
    "accuracy(x_valid, y_valid)"
   ]
  },
  {
   "cell_type": "code",
   "execution_count": null,
   "metadata": {},
   "outputs": [],
   "source": []
  }
 ],
 "metadata": {
  "kernelspec": {
   "display_name": "Python 3",
   "language": "python",
   "name": "python3"
  },
  "language_info": {
   "codemirror_mode": {
    "name": "ipython",
    "version": 3
   },
   "file_extension": ".py",
   "mimetype": "text/x-python",
   "name": "python",
   "nbconvert_exporter": "python",
   "pygments_lexer": "ipython3",
   "version": "3.10.7"
  }
 },
 "nbformat": 4,
 "nbformat_minor": 0
}
